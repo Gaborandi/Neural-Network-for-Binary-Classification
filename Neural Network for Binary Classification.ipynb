{
 "cells": [
  {
   "cell_type": "code",
   "execution_count": 1,
   "id": "61426787-140f-4abb-9305-8beb66b40e06",
   "metadata": {
    "collapsed": true,
    "jupyter": {
     "outputs_hidden": true
    },
    "tags": []
   },
   "outputs": [],
   "source": [
    "import pandas as pd\n",
    "from sklearn.impute import SimpleImputer\n",
    "from sklearn.preprocessing import StandardScaler, LabelEncoder\n",
    "from sklearn.model_selection import train_test_split\n",
    "from keras.models import Sequential\n",
    "from keras.layers import Dense, Dropout\n",
    "from keras.callbacks import EarlyStopping\n",
    "from keras.regularizers import l2 , l1"
   ]
  },
  {
   "cell_type": "code",
   "execution_count": 2,
   "id": "1b693efc-19e4-43b6-90ff-23a087a23228",
   "metadata": {
    "collapsed": true,
    "jupyter": {
     "outputs_hidden": true
    }
   },
   "outputs": [],
   "source": [
    "import pandas as pd\n",
    "import numpy as np\n",
    "from sklearn.model_selection import train_test_split\n",
    "from sklearn.impute import SimpleImputer\n",
    "from sklearn.preprocessing import StandardScaler, OneHotEncoder\n",
    "from sklearn.compose import ColumnTransformer\n",
    "from keras.models import Sequential\n",
    "from keras.layers import Dense\n",
    "from keras.callbacks import EarlyStopping"
   ]
  },
  {
   "cell_type": "code",
   "execution_count": 3,
   "id": "94e7f9b4-1f5e-4c76-a112-facc89e81a1d",
   "metadata": {
    "collapsed": true,
    "jupyter": {
     "outputs_hidden": true
    }
   },
   "outputs": [
    {
     "data": {
      "text/plain": [
       "(19904, 133)"
      ]
     },
     "execution_count": 3,
     "metadata": {},
     "output_type": "execute_result"
    }
   ],
   "source": [
    "df = pd.read_csv('yourdata.csv')\n",
    "df.shape"
   ]
  },
  {
   "cell_type": "code",
   "execution_count": 5,
   "id": "48499a11-aff3-4d61-bf56-83824e0cf8fa",
   "metadata": {
    "collapsed": true,
    "jupyter": {
     "outputs_hidden": true
    }
   },
   "outputs": [
    {
     "data": {
      "text/plain": [
       "39521"
      ]
     },
     "execution_count": 5,
     "metadata": {},
     "output_type": "execute_result"
    }
   ],
   "source": [
    "df.isna().sum().sum()"
   ]
  },
  {
   "cell_type": "code",
   "execution_count": 7,
   "id": "0f2412e4-f56d-4998-96c4-26a1b053dd67",
   "metadata": {
    "collapsed": true,
    "jupyter": {
     "outputs_hidden": true
    }
   },
   "outputs": [],
   "source": [
    "# Split data into features and target\n",
    "X = df.drop(\"target\", axis=1)\n",
    "y = df[\"target\"]"
   ]
  },
  {
   "cell_type": "code",
   "execution_count": 8,
   "id": "e88fb9e1-d8db-49db-aa2e-2e9d45cd6989",
   "metadata": {
    "collapsed": true,
    "jupyter": {
     "outputs_hidden": true
    }
   },
   "outputs": [],
   "source": [
    "# Separate categorical and numerical variables\n",
    "categorical_vars = X.select_dtypes(include='object')\n",
    "numerical_vars = X.select_dtypes(exclude='object')"
   ]
  },
  {
   "cell_type": "code",
   "execution_count": 9,
   "id": "28d8471c-b304-4f2a-8a23-b05dd9733c81",
   "metadata": {
    "collapsed": true,
    "jupyter": {
     "outputs_hidden": true
    }
   },
   "outputs": [],
   "source": [
    "#Normalization of data\n",
    "from sklearn.preprocessing import MinMaxScaler\n",
    "\n",
    "scaler = MinMaxScaler()\n",
    "numb_df = pd.DataFrame(scaler.fit_transform(numerical_vars), columns = numerical_vars.columns)"
   ]
  },
  {
   "cell_type": "code",
   "execution_count": 10,
   "id": "0800a423-05ab-4381-b2a1-b2736ff33861",
   "metadata": {
    "collapsed": true,
    "jupyter": {
     "outputs_hidden": true
    }
   },
   "outputs": [],
   "source": [
    "# define the imputer\n",
    "from sklearn.impute import KNNImputer\n",
    "\n",
    "imputer = KNNImputer(n_neighbors = 7)"
   ]
  },
  {
   "cell_type": "code",
   "execution_count": 11,
   "id": "8cd60d36-11f5-4c08-99c9-4958bf6efbfd",
   "metadata": {
    "collapsed": true,
    "jupyter": {
     "outputs_hidden": true
    }
   },
   "outputs": [],
   "source": [
    "new_numb_df = pd.DataFrame(imputer.fit_transform(numb_df),columns = numb_df.columns)"
   ]
  },
  {
   "cell_type": "code",
   "execution_count": 12,
   "id": "3b079fc9-f72e-4179-8aba-0f15895893cc",
   "metadata": {
    "collapsed": true,
    "jupyter": {
     "outputs_hidden": true
    }
   },
   "outputs": [],
   "source": [
    "# Handle missing values for categorical variables\n",
    "\n",
    "imputer = SimpleImputer(strategy='most_frequent')\n",
    "categorical_vars = pd.DataFrame(imputer.fit_transform(categorical_vars), columns=categorical_vars.columns)"
   ]
  },
  {
   "cell_type": "code",
   "execution_count": 13,
   "id": "57ff7695-b09b-4053-a10c-4144aa9e7926",
   "metadata": {
    "collapsed": true,
    "jupyter": {
     "outputs_hidden": true
    }
   },
   "outputs": [],
   "source": [
    "# Encode categorical variables\n",
    "\n",
    "label_encoder = LabelEncoder()\n",
    "for col in categorical_vars.columns:\n",
    "    categorical_vars[col] = label_encoder.fit_transform(categorical_vars[col])"
   ]
  },
  {
   "cell_type": "code",
   "execution_count": 14,
   "id": "bf14177e-499f-46ba-88b0-55128266b9e5",
   "metadata": {
    "collapsed": true,
    "jupyter": {
     "outputs_hidden": true
    }
   },
   "outputs": [],
   "source": [
    "# Concatenate the categorical and numerical variables back together\n",
    "df = pd.concat([categorical_vars, new_numb_df], axis=1)"
   ]
  },
  {
   "cell_type": "code",
   "execution_count": 15,
   "id": "c36fff3f-e95f-45dc-9fce-4af53e89c94e",
   "metadata": {
    "collapsed": true,
    "jupyter": {
     "outputs_hidden": true
    }
   },
   "outputs": [],
   "source": [
    "# Split the data into training and test sets\n",
    "\n",
    "X_train, X_test, y_train, y_test = train_test_split(df, y, test_size=0.2, random_state=42)"
   ]
  },
  {
   "cell_type": "code",
   "execution_count": 16,
   "id": "d41da7c4-f48e-49f8-a002-1b0f8ee17395",
   "metadata": {
    "collapsed": true,
    "jupyter": {
     "outputs_hidden": true
    }
   },
   "outputs": [
    {
     "name": "stderr",
     "output_type": "stream",
     "text": [
      "2023-01-24 20:43:36.852247: E tensorflow/stream_executor/cuda/cuda_driver.cc:271] failed call to cuInit: CUDA_ERROR_NO_DEVICE: no CUDA-capable device is detected\n",
      "2023-01-24 20:43:36.852270: I tensorflow/stream_executor/cuda/cuda_diagnostics.cc:169] retrieving CUDA diagnostic information for host: node0029.palmetto.clemson.edu\n",
      "2023-01-24 20:43:36.852275: I tensorflow/stream_executor/cuda/cuda_diagnostics.cc:176] hostname: node0029.palmetto.clemson.edu\n",
      "2023-01-24 20:43:36.852383: I tensorflow/stream_executor/cuda/cuda_diagnostics.cc:200] libcuda reported version is: 515.48.7\n",
      "2023-01-24 20:43:36.852399: I tensorflow/stream_executor/cuda/cuda_diagnostics.cc:204] kernel reported version is: 515.48.7\n",
      "2023-01-24 20:43:36.852403: I tensorflow/stream_executor/cuda/cuda_diagnostics.cc:310] kernel version seems to match DSO: 515.48.7\n",
      "2023-01-24 20:43:36.852716: I tensorflow/core/platform/cpu_feature_guard.cc:193] This TensorFlow binary is optimized with oneAPI Deep Neural Network Library (oneDNN) to use the following CPU instructions in performance-critical operations:  AVX2 AVX512F FMA\n",
      "To enable them in other operations, rebuild TensorFlow with the appropriate compiler flags.\n"
     ]
    }
   ],
   "source": [
    "# Build the neural network\n",
    "#32/4/1\n",
    "\n",
    "\n",
    "model = Sequential()\n",
    "model.add(Dense(32, input_dim=X.shape[1], activation='relu'))\n",
    "model.add(Dropout(0.2))\n",
    "kernel_regularizer=l1(0.01)\n",
    "model.add(Dense(4, activation='relu'))\n",
    "model.add(Dense(1, activation='sigmoid'))"
   ]
  },
  {
   "cell_type": "code",
   "execution_count": 17,
   "id": "7737fa54-e70e-4eed-9fcf-4523b103832b",
   "metadata": {
    "collapsed": true,
    "jupyter": {
     "outputs_hidden": true
    }
   },
   "outputs": [],
   "source": [
    "# Compile the model\n",
    "model.compile(loss='binary_crossentropy', optimizer='adam', metrics=['accuracy'])"
   ]
  },
  {
   "cell_type": "code",
   "execution_count": 18,
   "id": "291a768d-0a4e-400a-9104-81f5c1ee3020",
   "metadata": {
    "collapsed": true,
    "jupyter": {
     "outputs_hidden": true
    }
   },
   "outputs": [],
   "source": [
    "# Define early stopping\n",
    "early_stopping = EarlyStopping(monitor='val_loss', patience=10)"
   ]
  },
  {
   "cell_type": "code",
   "execution_count": 19,
   "id": "b5da50f7-d013-4580-92e4-277a3db1190f",
   "metadata": {
    "collapsed": true,
    "jupyter": {
     "outputs_hidden": true
    },
    "tags": []
   },
   "outputs": [
    {
     "name": "stdout",
     "output_type": "stream",
     "text": [
      "Epoch 1/100\n",
      "498/498 [==============================] - 1s 1ms/step - loss: 0.3635 - accuracy: 0.8834 - val_loss: 0.3214 - val_accuracy: 0.8857\n",
      "Epoch 2/100\n",
      "498/498 [==============================] - 1s 1ms/step - loss: 0.3275 - accuracy: 0.8891 - val_loss: 0.3081 - val_accuracy: 0.8857\n",
      "Epoch 3/100\n",
      "498/498 [==============================] - 1s 1ms/step - loss: 0.3171 - accuracy: 0.8891 - val_loss: 0.3032 - val_accuracy: 0.8857\n",
      "Epoch 4/100\n",
      "498/498 [==============================] - 1s 1ms/step - loss: 0.3149 - accuracy: 0.8892 - val_loss: 0.3059 - val_accuracy: 0.8857\n",
      "Epoch 5/100\n",
      "498/498 [==============================] - 1s 1ms/step - loss: 0.3118 - accuracy: 0.8891 - val_loss: 0.3037 - val_accuracy: 0.8860\n",
      "Epoch 6/100\n",
      "498/498 [==============================] - 1s 1ms/step - loss: 0.3100 - accuracy: 0.8895 - val_loss: 0.3051 - val_accuracy: 0.8865\n",
      "Epoch 7/100\n",
      "498/498 [==============================] - 1s 1ms/step - loss: 0.3077 - accuracy: 0.8888 - val_loss: 0.3013 - val_accuracy: 0.8860\n",
      "Epoch 8/100\n",
      "498/498 [==============================] - 1s 1ms/step - loss: 0.3061 - accuracy: 0.8890 - val_loss: 0.3001 - val_accuracy: 0.8870\n",
      "Epoch 9/100\n",
      "498/498 [==============================] - 1s 1ms/step - loss: 0.3030 - accuracy: 0.8902 - val_loss: 0.3004 - val_accuracy: 0.8860\n",
      "Epoch 10/100\n",
      "498/498 [==============================] - 1s 1ms/step - loss: 0.3034 - accuracy: 0.8903 - val_loss: 0.3002 - val_accuracy: 0.8870\n",
      "Epoch 11/100\n",
      "498/498 [==============================] - 1s 1ms/step - loss: 0.3009 - accuracy: 0.8907 - val_loss: 0.3005 - val_accuracy: 0.8842\n",
      "Epoch 12/100\n",
      "498/498 [==============================] - 1s 1ms/step - loss: 0.3003 - accuracy: 0.8913 - val_loss: 0.3019 - val_accuracy: 0.8867\n",
      "Epoch 13/100\n",
      "498/498 [==============================] - 1s 1ms/step - loss: 0.2974 - accuracy: 0.8915 - val_loss: 0.3069 - val_accuracy: 0.8842\n",
      "Epoch 14/100\n",
      "498/498 [==============================] - 1s 1ms/step - loss: 0.2954 - accuracy: 0.8925 - val_loss: 0.3037 - val_accuracy: 0.8872\n",
      "Epoch 15/100\n",
      "498/498 [==============================] - 1s 1ms/step - loss: 0.2943 - accuracy: 0.8920 - val_loss: 0.3024 - val_accuracy: 0.8882\n",
      "Epoch 16/100\n",
      "498/498 [==============================] - 1s 1ms/step - loss: 0.2929 - accuracy: 0.8924 - val_loss: 0.3084 - val_accuracy: 0.8837\n",
      "Epoch 17/100\n",
      "498/498 [==============================] - 1s 1ms/step - loss: 0.2912 - accuracy: 0.8931 - val_loss: 0.3117 - val_accuracy: 0.8845\n",
      "Epoch 18/100\n",
      "498/498 [==============================] - 1s 1ms/step - loss: 0.2894 - accuracy: 0.8942 - val_loss: 0.3076 - val_accuracy: 0.8857\n"
     ]
    },
    {
     "data": {
      "text/plain": [
       "<keras.callbacks.History at 0x14bacc12f0d0>"
      ]
     },
     "execution_count": 19,
     "metadata": {},
     "output_type": "execute_result"
    }
   ],
   "source": [
    "# Train the model\n",
    "model.fit(X_train, y_train, batch_size=32, epochs=100, validation_data=(X_test, y_test), callbacks=[early_stopping])"
   ]
  },
  {
   "cell_type": "code",
   "execution_count": 20,
   "id": "9cc902dd-30a8-418f-ab13-ef0c3fab0875",
   "metadata": {
    "collapsed": true,
    "jupyter": {
     "outputs_hidden": true
    }
   },
   "outputs": [
    {
     "name": "stdout",
     "output_type": "stream",
     "text": [
      "125/125 [==============================] - 0s 661us/step - loss: 0.3076 - accuracy: 0.8857\n",
      "Accuracy: 88.57%\n"
     ]
    }
   ],
   "source": [
    "# Evaluate the model\n",
    "\n",
    "scores = model.evaluate(X_test, y_test)\n",
    "print(\"Accuracy: %.2f%%\" % (scores[1]*100))"
   ]
  },
  {
   "cell_type": "code",
   "execution_count": 21,
   "id": "3f57dc1d-aa62-40e8-b278-544f3922e0f5",
   "metadata": {
    "collapsed": true,
    "jupyter": {
     "outputs_hidden": true
    }
   },
   "outputs": [
    {
     "name": "stdout",
     "output_type": "stream",
     "text": [
      "125/125 [==============================] - 0s 624us/step\n",
      "AUC: 0.75\n"
     ]
    }
   ],
   "source": [
    "import matplotlib.pyplot as plt\n",
    "from sklearn.metrics import roc_auc_score, roc_curve\n",
    "\n",
    "# Predict the probabilities of the test set\n",
    "y_pred_proba = model.predict(X_test)\n",
    "\n",
    "# Calculate the AUC score\n",
    "auc = roc_auc_score(y_test, y_pred_proba)\n",
    "print(\"AUC: {:.2f}\".format(auc))"
   ]
  },
  {
   "cell_type": "code",
   "execution_count": 22,
   "id": "62de2a95-113d-4b7e-b84a-2d62590e1959",
   "metadata": {
    "collapsed": true,
    "jupyter": {
     "outputs_hidden": true
    }
   },
   "outputs": [
    {
     "data": {
      "image/png": "[encoded data removed]",
      "text/plain": [
       "<Figure size 432x288 with 1 Axes>"
      ]
     },
     "metadata": {
      "needs_background": "light"
     },
     "output_type": "display_data"
    }
   ],
   "source": [
    "# Plot the ROC curve\n",
    "fpr, tpr, thresholds = roc_curve(y_test, y_pred_proba)\n",
    "plt.plot(fpr, tpr, label='ROC curve (AUC = {:.2f})'.format(auc))\n",
    "plt.xlabel('False Positive Rate')\n",
    "plt.ylabel('True Positive Rate')\n",
    "plt.title('ROC Curve')\n",
    "plt.legend()\n",
    "plt.show()"
   ]
  },
  {
   "cell_type": "code",
   "execution_count": 35,
   "id": "52aa5c39-f67f-47e2-9a55-dd627741dd35",
   "metadata": {
    "collapsed": true,
    "jupyter": {
     "outputs_hidden": true
    }
   },
   "outputs": [
    {
     "data": {
      "text/plain": [
       "(15923, 128)"
      ]
     },
     "execution_count": 35,
     "metadata": {},
     "output_type": "execute_result"
    }
   ],
   "source": [
    "X_train.shape"
   ]
  },
  {
   "cell_type": "code",
   "execution_count": 23,
   "id": "8ab15bd5-37b7-44f4-a137-2c20d841d526",
   "metadata": {
    "collapsed": true,
    "jupyter": {
     "outputs_hidden": true
    }
   },
   "outputs": [],
   "source": [
    "# Sequential Backward Selection (SBS) \n",
    "\n",
    "from sklearn.neighbors import KNeighborsClassifier\n",
    "from mlxtend.feature_selection import SequentialFeatureSelector as SFS"
   ]
  },
  {
   "cell_type": "code",
   "execution_count": 52,
   "id": "8c82a0cf-64e5-433e-9b74-1c62bc4263c8",
   "metadata": {
    "collapsed": true,
    "jupyter": {
     "outputs_hidden": true
    }
   },
   "outputs": [],
   "source": [
    "# Create an instance of the KNeighborsClassifier model\n",
    "knn = KNeighborsClassifier(n_neighbors=5)\n",
    "\n",
    "# Create an instance of SBS\n",
    "sbs = SFS(knn, \n",
    "           k_features=100, \n",
    "           forward=False, \n",
    "           floating=False, \n",
    "           verbose=2,\n",
    "           scoring='accuracy',\n",
    "           cv=5)"
   ]
  },
  {
   "cell_type": "code",
   "execution_count": 53,
   "id": "3171c3be-33d2-48e7-805d-6dad94e1e5d6",
   "metadata": {
    "collapsed": true,
    "jupyter": {
     "outputs_hidden": true
    },
    "tags": []
   },
   "outputs": [
    {
     "name": "stderr",
     "output_type": "stream",
     "text": [
      "[Parallel(n_jobs=1)]: Using backend SequentialBackend with 1 concurrent workers.\n",
      "[Parallel(n_jobs=1)]: Done   1 out of   1 | elapsed:    1.5s remaining:    0.0s\n",
      "[Parallel(n_jobs=1)]: Done 128 out of 128 | elapsed:  1.6min finished\n",
      "\n",
      "[2023-01-25 00:01:37] Features: 127/100 -- score: 0.8853860945228498[Parallel(n_jobs=1)]: Using backend SequentialBackend with 1 concurrent workers.\n",
      "[Parallel(n_jobs=1)]: Done   1 out of   1 | elapsed:    0.5s remaining:    0.0s\n",
      "[Parallel(n_jobs=1)]: Done 127 out of 127 | elapsed:  2.3min finished\n",
      "\n",
      "[2023-01-25 00:03:56] Features: 126/100 -- score: 0.8857629000575878[Parallel(n_jobs=1)]: Using backend SequentialBackend with 1 concurrent workers.\n",
      "[Parallel(n_jobs=1)]: Done   1 out of   1 | elapsed:    0.8s remaining:    0.0s\n",
      "[Parallel(n_jobs=1)]: Done 126 out of 126 | elapsed:  2.3min finished\n",
      "\n",
      "[2023-01-25 00:06:12] Features: 125/100 -- score: 0.8860769309656604[Parallel(n_jobs=1)]: Using backend SequentialBackend with 1 concurrent workers.\n",
      "[Parallel(n_jobs=1)]: Done   1 out of   1 | elapsed:    0.5s remaining:    0.0s\n",
      "[Parallel(n_jobs=1)]: Done 125 out of 125 | elapsed:  1.7min finished\n",
      "\n",
      "[2023-01-25 00:07:52] Features: 124/100 -- score: 0.8863909027082035[Parallel(n_jobs=1)]: Using backend SequentialBackend with 1 concurrent workers.\n",
      "[Parallel(n_jobs=1)]: Done   1 out of   1 | elapsed:    1.5s remaining:    0.0s\n",
      "[Parallel(n_jobs=1)]: Done 124 out of 124 | elapsed:  1.4min finished\n",
      "\n",
      "[2023-01-25 00:09:15] Features: 123/100 -- score: 0.8865793251974157[Parallel(n_jobs=1)]: Using backend SequentialBackend with 1 concurrent workers.\n",
      "[Parallel(n_jobs=1)]: Done   1 out of   1 | elapsed:    1.0s remaining:    0.0s\n",
      "[Parallel(n_jobs=1)]: Done 123 out of 123 | elapsed:  1.4min finished\n",
      "\n",
      "[2023-01-25 00:10:38] Features: 122/100 -- score: 0.8867677476866277[Parallel(n_jobs=1)]: Using backend SequentialBackend with 1 concurrent workers.\n",
      "[Parallel(n_jobs=1)]: Done   1 out of   1 | elapsed:    0.5s remaining:    0.0s\n",
      "[Parallel(n_jobs=1)]: Done 122 out of 122 | elapsed:  1.2min finished\n",
      "\n",
      "[2023-01-25 00:11:52] Features: 121/100 -- score: 0.8868305420351366[Parallel(n_jobs=1)]: Using backend SequentialBackend with 1 concurrent workers.\n",
      "[Parallel(n_jobs=1)]: Done   1 out of   1 | elapsed:    1.4s remaining:    0.0s\n",
      "[Parallel(n_jobs=1)]: Done 121 out of 121 | elapsed:  1.9min finished\n",
      "\n",
      "[2023-01-25 00:13:46] Features: 120/100 -- score: 0.8868305420351366[Parallel(n_jobs=1)]: Using backend SequentialBackend with 1 concurrent workers.\n",
      "[Parallel(n_jobs=1)]: Done   1 out of   1 | elapsed:    0.4s remaining:    0.0s\n",
      "[Parallel(n_jobs=1)]: Done 120 out of 120 | elapsed:  1.6min finished\n",
      "\n",
      "[2023-01-25 00:15:22] Features: 119/100 -- score: 0.8868933363836451[Parallel(n_jobs=1)]: Using backend SequentialBackend with 1 concurrent workers.\n",
      "[Parallel(n_jobs=1)]: Done   1 out of   1 | elapsed:    0.5s remaining:    0.0s\n",
      "[Parallel(n_jobs=1)]: Done 119 out of 119 | elapsed:  1.7min finished\n",
      "\n",
      "[2023-01-25 00:17:05] Features: 118/100 -- score: 0.8869561307321536[Parallel(n_jobs=1)]: Using backend SequentialBackend with 1 concurrent workers.\n",
      "[Parallel(n_jobs=1)]: Done   1 out of   1 | elapsed:    1.7s remaining:    0.0s\n",
      "[Parallel(n_jobs=1)]: Done 118 out of 118 | elapsed:  1.4min finished\n",
      "\n",
      "[2023-01-25 00:18:32] Features: 117/100 -- score: 0.8869561307321536[Parallel(n_jobs=1)]: Using backend SequentialBackend with 1 concurrent workers.\n",
      "[Parallel(n_jobs=1)]: Done   1 out of   1 | elapsed:    0.4s remaining:    0.0s\n",
      "[Parallel(n_jobs=1)]: Done 117 out of 117 | elapsed:  1.5min finished\n",
      "\n",
      "[2023-01-25 00:20:03] Features: 116/100 -- score: 0.8870189250806625[Parallel(n_jobs=1)]: Using backend SequentialBackend with 1 concurrent workers.\n",
      "[Parallel(n_jobs=1)]: Done   1 out of   1 | elapsed:    0.5s remaining:    0.0s\n",
      "[Parallel(n_jobs=1)]: Done 116 out of 116 | elapsed:  1.6min finished\n",
      "\n",
      "[2023-01-25 00:21:37] Features: 115/100 -- score: 0.8870189250806625[Parallel(n_jobs=1)]: Using backend SequentialBackend with 1 concurrent workers.\n",
      "[Parallel(n_jobs=1)]: Done   1 out of   1 | elapsed:    0.5s remaining:    0.0s\n",
      "[Parallel(n_jobs=1)]: Done 115 out of 115 | elapsed:  1.1min finished\n",
      "\n",
      "[2023-01-25 00:22:45] Features: 114/100 -- score: 0.8870189250806625[Parallel(n_jobs=1)]: Using backend SequentialBackend with 1 concurrent workers.\n",
      "[Parallel(n_jobs=1)]: Done   1 out of   1 | elapsed:    0.5s remaining:    0.0s\n",
      "[Parallel(n_jobs=1)]: Done 114 out of 114 | elapsed:   58.9s finished\n",
      "\n",
      "[2023-01-25 00:23:44] Features: 113/100 -- score: 0.8870189250806625[Parallel(n_jobs=1)]: Using backend SequentialBackend with 1 concurrent workers.\n",
      "[Parallel(n_jobs=1)]: Done   1 out of   1 | elapsed:    0.4s remaining:    0.0s\n",
      "[Parallel(n_jobs=1)]: Done 113 out of 113 | elapsed:  1.3min finished\n",
      "\n",
      "[2023-01-25 00:25:01] Features: 112/100 -- score: 0.8870189250806625[Parallel(n_jobs=1)]: Using backend SequentialBackend with 1 concurrent workers.\n",
      "[Parallel(n_jobs=1)]: Done   1 out of   1 | elapsed:    0.4s remaining:    0.0s\n",
      "[Parallel(n_jobs=1)]: Done 112 out of 112 | elapsed:  1.5min finished\n",
      "\n",
      "[2023-01-25 00:26:32] Features: 111/100 -- score: 0.8870189250806625[Parallel(n_jobs=1)]: Using backend SequentialBackend with 1 concurrent workers.\n",
      "[Parallel(n_jobs=1)]: Done   1 out of   1 | elapsed:    1.5s remaining:    0.0s\n",
      "[Parallel(n_jobs=1)]: Done 111 out of 111 | elapsed:  1.2min finished\n",
      "\n",
      "[2023-01-25 00:27:44] Features: 110/100 -- score: 0.8870189250806625[Parallel(n_jobs=1)]: Using backend SequentialBackend with 1 concurrent workers.\n",
      "[Parallel(n_jobs=1)]: Done   1 out of   1 | elapsed:    0.5s remaining:    0.0s\n",
      "[Parallel(n_jobs=1)]: Done 110 out of 110 | elapsed:  1.6min finished\n",
      "\n",
      "[2023-01-25 00:29:19] Features: 109/100 -- score: 0.8870189250806625[Parallel(n_jobs=1)]: Using backend SequentialBackend with 1 concurrent workers.\n",
      "[Parallel(n_jobs=1)]: Done   1 out of   1 | elapsed:    0.5s remaining:    0.0s\n",
      "[Parallel(n_jobs=1)]: Done 109 out of 109 | elapsed:  1.2min finished\n",
      "\n",
      "[2023-01-25 00:30:29] Features: 108/100 -- score: 0.8870189250806625[Parallel(n_jobs=1)]: Using backend SequentialBackend with 1 concurrent workers.\n",
      "[Parallel(n_jobs=1)]: Done   1 out of   1 | elapsed:    0.5s remaining:    0.0s\n",
      "[Parallel(n_jobs=1)]: Done 108 out of 108 | elapsed:   56.0s finished\n",
      "\n",
      "[2023-01-25 00:31:25] Features: 107/100 -- score: 0.8870189250806625[Parallel(n_jobs=1)]: Using backend SequentialBackend with 1 concurrent workers.\n",
      "[Parallel(n_jobs=1)]: Done   1 out of   1 | elapsed:    0.5s remaining:    0.0s\n",
      "[Parallel(n_jobs=1)]: Done 107 out of 107 | elapsed:  1.1min finished\n",
      "\n",
      "[2023-01-25 00:32:33] Features: 106/100 -- score: 0.8870189250806625[Parallel(n_jobs=1)]: Using backend SequentialBackend with 1 concurrent workers.\n",
      "[Parallel(n_jobs=1)]: Done   1 out of   1 | elapsed:    0.5s remaining:    0.0s\n",
      "[Parallel(n_jobs=1)]: Done 106 out of 106 | elapsed:  1.3min finished\n",
      "\n",
      "[2023-01-25 00:33:52] Features: 105/100 -- score: 0.8870189250806625[Parallel(n_jobs=1)]: Using backend SequentialBackend with 1 concurrent workers.\n",
      "[Parallel(n_jobs=1)]: Done   1 out of   1 | elapsed:    0.8s remaining:    0.0s\n",
      "[Parallel(n_jobs=1)]: Done 105 out of 105 | elapsed:  1.6min finished\n",
      "\n",
      "[2023-01-25 00:35:27] Features: 104/100 -- score: 0.8870189250806625[Parallel(n_jobs=1)]: Using backend SequentialBackend with 1 concurrent workers.\n",
      "[Parallel(n_jobs=1)]: Done   1 out of   1 | elapsed:    0.5s remaining:    0.0s\n",
      "[Parallel(n_jobs=1)]: Done 104 out of 104 | elapsed:  1.2min finished\n",
      "\n",
      "[2023-01-25 00:36:38] Features: 103/100 -- score: 0.8870189053588191[Parallel(n_jobs=1)]: Using backend SequentialBackend with 1 concurrent workers.\n",
      "[Parallel(n_jobs=1)]: Done   1 out of   1 | elapsed:    0.4s remaining:    0.0s\n",
      "[Parallel(n_jobs=1)]: Done 103 out of 103 | elapsed:  1.1min finished\n",
      "\n",
      "[2023-01-25 00:37:42] Features: 102/100 -- score: 0.887144553221366[Parallel(n_jobs=1)]: Using backend SequentialBackend with 1 concurrent workers.\n",
      "[Parallel(n_jobs=1)]: Done   1 out of   1 | elapsed:    0.5s remaining:    0.0s\n",
      "[Parallel(n_jobs=1)]: Done 102 out of 102 | elapsed:  2.0min finished\n",
      "\n",
      "[2023-01-25 00:39:42] Features: 101/100 -- score: 0.8873329362668919[Parallel(n_jobs=1)]: Using backend SequentialBackend with 1 concurrent workers.\n",
      "[Parallel(n_jobs=1)]: Done   1 out of   1 | elapsed:    0.5s remaining:    0.0s\n",
      "[Parallel(n_jobs=1)]: Done 101 out of 101 | elapsed:   57.7s finished\n",
      "\n",
      "[2023-01-25 00:40:39] Features: 100/100 -- score: 0.8873329559887349"
     ]
    },
    {
     "data": {
      "text/html": [
       "<style>#sk-container-id-3 {color: black;background-color: white;}#sk-container-id-3 pre{padding: 0;}#sk-container-id-3 div.sk-toggleable {background-color: white;}#sk-container-id-3 label.sk-toggleable__label {cursor: pointer;display: block;width: 100%;margin-bottom: 0;padding: 0.3em;box-sizing: border-box;text-align: center;}#sk-container-id-3 label.sk-toggleable__label-arrow:before {content: \"▸\";float: left;margin-right: 0.25em;color: #696969;}#sk-container-id-3 label.sk-toggleable__label-arrow:hover:before {color: black;}#sk-container-id-3 div.sk-estimator:hover label.sk-toggleable__label-arrow:before {color: black;}#sk-container-id-3 div.sk-toggleable__content {max-height: 0;max-width: 0;overflow: hidden;text-align: left;background-color: #f0f8ff;}#sk-container-id-3 div.sk-toggleable__content pre {margin: 0.2em;color: black;border-radius: 0.25em;background-color: #f0f8ff;}#sk-container-id-3 input.sk-toggleable__control:checked~div.sk-toggleable__content {max-height: 200px;max-width: 100%;overflow: auto;}#sk-container-id-3 input.sk-toggleable__control:checked~label.sk-toggleable__label-arrow:before {content: \"▾\";}#sk-container-id-3 div.sk-estimator input.sk-toggleable__control:checked~label.sk-toggleable__label {background-color: #d4ebff;}#sk-container-id-3 div.sk-label input.sk-toggleable__control:checked~label.sk-toggleable__label {background-color: #d4ebff;}#sk-container-id-3 input.sk-hidden--visually {border: 0;clip: rect(1px 1px 1px 1px);clip: rect(1px, 1px, 1px, 1px);height: 1px;margin: -1px;overflow: hidden;padding: 0;position: absolute;width: 1px;}#sk-container-id-3 div.sk-estimator {font-family: monospace;background-color: #f0f8ff;border: 1px dotted black;border-radius: 0.25em;box-sizing: border-box;margin-bottom: 0.5em;}#sk-container-id-3 div.sk-estimator:hover {background-color: #d4ebff;}#sk-container-id-3 div.sk-parallel-item::after {content: \"\";width: 100%;border-bottom: 1px solid gray;flex-grow: 1;}#sk-container-id-3 div.sk-label:hover label.sk-toggleable__label {background-color: #d4ebff;}#sk-container-id-3 div.sk-serial::before {content: \"\";position: absolute;border-left: 1px solid gray;box-sizing: border-box;top: 0;bottom: 0;left: 50%;z-index: 0;}#sk-container-id-3 div.sk-serial {display: flex;flex-direction: column;align-items: center;background-color: white;padding-right: 0.2em;padding-left: 0.2em;position: relative;}#sk-container-id-3 div.sk-item {position: relative;z-index: 1;}#sk-container-id-3 div.sk-parallel {display: flex;align-items: stretch;justify-content: center;background-color: white;position: relative;}#sk-container-id-3 div.sk-item::before, #sk-container-id-3 div.sk-parallel-item::before {content: \"\";position: absolute;border-left: 1px solid gray;box-sizing: border-box;top: 0;bottom: 0;left: 50%;z-index: -1;}#sk-container-id-3 div.sk-parallel-item {display: flex;flex-direction: column;z-index: 1;position: relative;background-color: white;}#sk-container-id-3 div.sk-parallel-item:first-child::after {align-self: flex-end;width: 50%;}#sk-container-id-3 div.sk-parallel-item:last-child::after {align-self: flex-start;width: 50%;}#sk-container-id-3 div.sk-parallel-item:only-child::after {width: 0;}#sk-container-id-3 div.sk-dashed-wrapped {border: 1px dashed gray;margin: 0 0.4em 0.5em 0.4em;box-sizing: border-box;padding-bottom: 0.4em;background-color: white;}#sk-container-id-3 div.sk-label label {font-family: monospace;font-weight: bold;display: inline-block;line-height: 1.2em;}#sk-container-id-3 div.sk-label-container {text-align: center;}#sk-container-id-3 div.sk-container {/* jupyter's `normalize.less` sets `[hidden] { display: none; }` but bootstrap.min.css set `[hidden] { display: none !important; }` so we also need the `!important` here to be able to override the default hidden behavior on the sphinx rendered scikit-learn.org. See: https://github.com/scikit-learn/scikit-learn/issues/21755 */display: inline-block !important;position: relative;}#sk-container-id-3 div.sk-text-repr-fallback {display: none;}</style><div id=\"sk-container-id-3\" class=\"sk-top-container\"><div class=\"sk-text-repr-fallback\"><pre>SequentialFeatureSelector(estimator=KNeighborsClassifier(), forward=False,\n",
       "                          k_features=(100, 100), scoring=&#x27;accuracy&#x27;, verbose=2)</pre><b>In a Jupyter environment, please rerun this cell to show the HTML representation or trust the notebook. <br />On GitHub, the HTML representation is unable to render, please try loading this page with nbviewer.org.</b></div><div class=\"sk-container\" hidden><div class=\"sk-item sk-dashed-wrapped\"><div class=\"sk-label-container\"><div class=\"sk-label sk-toggleable\"><input class=\"sk-toggleable__control sk-hidden--visually\" id=\"sk-estimator-id-7\" type=\"checkbox\" ><label for=\"sk-estimator-id-7\" class=\"sk-toggleable__label sk-toggleable__label-arrow\">SequentialFeatureSelector</label><div class=\"sk-toggleable__content\"><pre>SequentialFeatureSelector(estimator=KNeighborsClassifier(), forward=False,\n",
       "                          k_features=(100, 100), scoring=&#x27;accuracy&#x27;, verbose=2)</pre></div></div></div><div class=\"sk-parallel\"><div class=\"sk-parallel-item\"><div class=\"sk-item\"><div class=\"sk-label-container\"><div class=\"sk-label sk-toggleable\"><input class=\"sk-toggleable__control sk-hidden--visually\" id=\"sk-estimator-id-8\" type=\"checkbox\" ><label for=\"sk-estimator-id-8\" class=\"sk-toggleable__label sk-toggleable__label-arrow\">estimator: KNeighborsClassifier</label><div class=\"sk-toggleable__content\"><pre>KNeighborsClassifier()</pre></div></div></div><div class=\"sk-serial\"><div class=\"sk-item\"><div class=\"sk-estimator sk-toggleable\"><input class=\"sk-toggleable__control sk-hidden--visually\" id=\"sk-estimator-id-9\" type=\"checkbox\" ><label for=\"sk-estimator-id-9\" class=\"sk-toggleable__label sk-toggleable__label-arrow\">KNeighborsClassifier</label><div class=\"sk-toggleable__content\"><pre>KNeighborsClassifier()</pre></div></div></div></div></div></div></div></div></div></div>"
      ],
      "text/plain": [
       "SequentialFeatureSelector(estimator=KNeighborsClassifier(), forward=False,\n",
       "                          k_features=(100, 100), scoring='accuracy', verbose=2)"
      ]
     },
     "execution_count": 53,
     "metadata": {},
     "output_type": "execute_result"
    }
   ],
   "source": [
    "# Fit the SBS model to the data\n",
    "sbs.fit(X_train, y_train)"
   ]
  },
  {
   "cell_type": "code",
   "execution_count": 54,
   "id": "3d6acce6-8fec-44f1-a976-b2004c8f6d3b",
   "metadata": {
    "collapsed": true,
    "jupyter": {
     "outputs_hidden": true
    }
   },
   "outputs": [
    {
     "name": "stdout",
     "output_type": "stream",
     "text": [
      "(0, 1, 3, 4, 5, 6, 7, 8, 9, 10, 11, 12, 13, 14, 16, 17, 18, 21, 22, 23, 24, 25, 26, 27, 28, 30, 31, 32, 33, 34, 35, 36, 37, 38, 39, 40, 41, 42, 43, 44, 45, 46, 47, 48, 49, 50, 51, 52, 53, 54, 55, 56, 57, 58, 60, 62, 63, 65, 66, 67, 68, 69, 70, 71, 73, 74, 75, 77, 81, 82, 83, 85, 86, 89, 93, 95, 97, 98, 99, 100, 101, 102, 104, 105, 108, 109, 110, 111, 112, 113, 114, 115, 116, 117, 118, 119, 120, 121, 124, 126)\n"
     ]
    }
   ],
   "source": [
    "# Print the selected features\n",
    "print(sbs.k_feature_idx_)"
   ]
  },
  {
   "cell_type": "code",
   "execution_count": 55,
   "id": "96bd64f8-e3b5-4977-b885-747e7881b7cd",
   "metadata": {
    "collapsed": true,
    "jupyter": {
     "outputs_hidden": true
    }
   },
   "outputs": [],
   "source": [
    "# Select the top 10 features\n",
    "X_train_sbs = X_train.values[:, sbs.k_feature_idx_]\n",
    "X_test_sbs = X_test.values[:, sbs.k_feature_idx_]"
   ]
  },
  {
   "cell_type": "code",
   "execution_count": 104,
   "id": "38962cbd-e65c-41e2-a8e2-8e47e9dbfd7c",
   "metadata": {
    "collapsed": true,
    "jupyter": {
     "outputs_hidden": true
    }
   },
   "outputs": [],
   "source": [
    "# Build the neural network\n",
    "#128/4/1\n",
    "\n",
    "\n",
    "model = Sequential()\n",
    "model.add(Dense(512, input_dim=X_train_sbs.shape[1], activation='relu'))\n",
    "model.add(Dropout(0.5))\n",
    "kernel_regularizer=l2(0.01)\n",
    "model.add(Dense(4, activation='relu'))\n",
    "model.add(Dense(1, activation='sigmoid'))"
   ]
  },
  {
   "cell_type": "code",
   "execution_count": 105,
   "id": "2ce65a96-8dec-4081-bb1c-21294519a74e",
   "metadata": {
    "collapsed": true,
    "jupyter": {
     "outputs_hidden": true
    }
   },
   "outputs": [],
   "source": [
    "model.compile(loss='binary_crossentropy', optimizer='adam', metrics=['accuracy'])"
   ]
  },
  {
   "cell_type": "code",
   "execution_count": 106,
   "id": "95d70909-05d8-4702-bd46-fcbb65317b2b",
   "metadata": {
    "collapsed": true,
    "jupyter": {
     "outputs_hidden": true
    }
   },
   "outputs": [],
   "source": [
    "# Define early stopping and reduce learning rate on plateau callbacks\n",
    "from keras.callbacks import ReduceLROnPlateau\n",
    "\n",
    "early_stopping = EarlyStopping(monitor='val_loss', patience=5)\n",
    "reduce_lr = ReduceLROnPlateau(monitor='val_loss', factor=0.2, patience=3)"
   ]
  },
  {
   "cell_type": "code",
   "execution_count": 111,
   "id": "00f5bd66-e49f-476f-a0c9-59e2fa5a36d6",
   "metadata": {
    "collapsed": true,
    "jupyter": {
     "outputs_hidden": true
    },
    "tags": []
   },
   "outputs": [
    {
     "name": "stdout",
     "output_type": "stream",
     "text": [
      "Epoch 1/50\n",
      "996/996 [==============================] - 2s 2ms/step - loss: 0.2942 - accuracy: 0.8891 - val_loss: 0.3019 - val_accuracy: 0.8857 - lr: 4.0000e-05\n",
      "Epoch 2/50\n",
      "996/996 [==============================] - 2s 2ms/step - loss: 0.2943 - accuracy: 0.8891 - val_loss: 0.3019 - val_accuracy: 0.8857 - lr: 4.0000e-05\n",
      "Epoch 3/50\n",
      "996/996 [==============================] - 2s 2ms/step - loss: 0.2936 - accuracy: 0.8890 - val_loss: 0.3019 - val_accuracy: 0.8857 - lr: 4.0000e-05\n",
      "Epoch 4/50\n",
      "996/996 [==============================] - 2s 2ms/step - loss: 0.2941 - accuracy: 0.8891 - val_loss: 0.3020 - val_accuracy: 0.8857 - lr: 4.0000e-05\n",
      "Epoch 5/50\n",
      "996/996 [==============================] - 2s 2ms/step - loss: 0.2920 - accuracy: 0.8891 - val_loss: 0.3020 - val_accuracy: 0.8857 - lr: 8.0000e-06\n",
      "Epoch 6/50\n",
      "996/996 [==============================] - 2s 2ms/step - loss: 0.2932 - accuracy: 0.8891 - val_loss: 0.3020 - val_accuracy: 0.8857 - lr: 8.0000e-06\n"
     ]
    }
   ],
   "source": [
    "# Train the model\n",
    "batch_size = 16\n",
    "epochs = 50\n",
    "history = model.fit(X_train_sbs, y_train, batch_size=batch_size, epochs=epochs, \n",
    "                    validation_data=(X_test_sbs, y_test), callbacks=[early_stopping, reduce_lr])"
   ]
  },
  {
   "cell_type": "code",
   "execution_count": 112,
   "id": "92d5a538-2526-4d8e-b595-0543e8a08ef7",
   "metadata": {
    "collapsed": true,
    "jupyter": {
     "outputs_hidden": true
    }
   },
   "outputs": [
    {
     "name": "stdout",
     "output_type": "stream",
     "text": [
      "125/125 [==============================] - 0s 598us/step\n",
      "AUC: 0.76\n"
     ]
    }
   ],
   "source": [
    "import matplotlib.pyplot as plt\n",
    "from sklearn.metrics import roc_auc_score, roc_curve\n",
    "\n",
    "# Predict the probabilities of the test set\n",
    "y_pred_proba = model.predict(X_test_sbs)\n",
    "\n",
    "# Calculate the AUC score\n",
    "auc = roc_auc_score(y_test, y_pred_proba)\n",
    "print(\"AUC: {:.2f}\".format(auc))"
   ]
  },
  {
   "cell_type": "code",
   "execution_count": 113,
   "id": "ec8da5bd-9877-4684-9472-61c104d94b06",
   "metadata": {
    "collapsed": true,
    "jupyter": {
     "outputs_hidden": true
    }
   },
   "outputs": [
    {
     "data": {
      "image/png": "[encoded data removed]",
      "text/plain": [
       "<Figure size 432x288 with 1 Axes>"
      ]
     },
     "metadata": {
      "needs_background": "light"
     },
     "output_type": "display_data"
    }
   ],
   "source": [
    "# Plot the ROC curve\n",
    "fpr, tpr, thresholds = roc_curve(y_test, y_pred_proba)\n",
    "plt.plot(fpr, tpr, label='ROC curve (AUC = {:.2f})'.format(auc))\n",
    "plt.xlabel('False Positive Rate')\n",
    "plt.ylabel('True Positive Rate')\n",
    "plt.title('ROC Curve')\n",
    "plt.legend()\n",
    "plt.show()"
   ]
  },
  {
   "cell_type": "code",
   "execution_count": null,
   "id": "d5fac4ab-6823-43d7-8ae4-1ca2684bab3d",
   "metadata": {
    "collapsed": true,
    "jupyter": {
     "outputs_hidden": true
    }
   },
   "outputs": [],
   "source": []
  }
 ],
 "metadata": {
  "kernelspec": {
   "display_name": "Python 3 (ipykernel)",
   "language": "python",
   "name": "python3"
  },
  "language_info": {
   "codemirror_mode": {
    "name": "ipython",
    "version": 3
   },
   "file_extension": ".py",
   "mimetype": "text/x-python",
   "name": "python",
   "nbconvert_exporter": "python",
   "pygments_lexer": "ipython3",
   "version": "3.8.3"
  }
 },
 "nbformat": 4,
 "nbformat_minor": 5
}
